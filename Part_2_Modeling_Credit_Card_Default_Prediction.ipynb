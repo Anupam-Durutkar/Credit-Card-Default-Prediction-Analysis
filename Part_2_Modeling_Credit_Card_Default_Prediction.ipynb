{
  "cells": [
    {
      "cell_type": "markdown",
      "metadata": {
        "id": "view-in-github",
        "colab_type": "text"
      },
      "source": [
        "<a href=\"https://colab.research.google.com/github/Anupam-Durutkar/Credit-Card-Default-Prediction-Analysis/blob/main/Part_2_Modeling_Credit_Card_Default_Prediction.ipynb\" target=\"_parent\"><img src=\"https://colab.research.google.com/assets/colab-badge.svg\" alt=\"Open In Colab\"/></a>"
      ]
    },
    {
      "cell_type": "markdown",
      "metadata": {
        "id": "cpQsLXlUJ7vP"
      },
      "source": [
        "\n",
        "\n",
        "---\n",
        "\n",
        "\n",
        "# **Part 2 - Modeling: Credit Card Default Prediction**\n",
        "\n",
        "---\n",
        "\n"
      ]
    },
    {
      "cell_type": "markdown",
      "metadata": {
        "id": "Am1hPU8hK5BM"
      },
      "source": [
        "## Table of Contents\n",
        "- Import Packages\n",
        "- Load Data\n",
        "- Prepare for Modeling\n",
        "- Predicative Classification Modeling\n",
        "- Logistic Regression\n",
        "- Random Forest\n",
        "- XGBoost\n",
        "- Model Comparison\n",
        "- Conclusion"
      ]
    },
    {
      "cell_type": "markdown",
      "metadata": {
        "id": "mWFSptqARDET"
      },
      "source": [
        "## Import Packages"
      ]
    },
    {
      "cell_type": "code",
      "execution_count": 1,
      "metadata": {
        "id": "ipckXIISRH97"
      },
      "outputs": [],
      "source": [
        "import numpy as np\n",
        "import pandas as pd\n",
        "import matplotlib.pyplot as plt\n",
        "import seaborn as sns\n",
        "%matplotlib inline \n",
        "import warnings\n",
        "warnings.simplefilter(\"ignore\")\n",
        "from pprint import pprint\n",
        "\n",
        "import joblib\n",
        "import imblearn\n",
        "\n",
        "from sklearn.model_selection import KFold\n",
        "from sklearn.model_selection import RandomizedSearchCV\n",
        "from sklearn.model_selection import GridSearchCV\n",
        "from sklearn.model_selection import train_test_split\n",
        "from sklearn.model_selection import StratifiedShuffleSplit\n",
        "from sklearn.model_selection import cross_val_score\n",
        "from sklearn.model_selection import cross_validate\n",
        "\n",
        "from sklearn.preprocessing import StandardScaler\n",
        "from sklearn.pipeline import make_pipeline\n",
        "from sklearn.pipeline import Pipeline\n",
        "\n",
        "from sklearn import metrics  \n",
        "from sklearn.metrics import roc_auc_score\n",
        "from sklearn.metrics import confusion_matrix\n",
        "from sklearn.metrics import plot_confusion_matrix\n",
        "from sklearn.metrics import classification_report\n",
        "from sklearn.metrics import plot_roc_curve\n",
        "from sklearn.metrics import precision_recall_curve\n",
        "from sklearn.metrics import plot_precision_recall_curve\n",
        "\n",
        "from sklearn.linear_model import LogisticRegression\n",
        "from sklearn.ensemble import RandomForestClassifier\n",
        "import xgboost as xgb\n",
        "from xgboost import XGBClassifier"
      ]
    },
    {
      "cell_type": "code",
      "execution_count": 2,
      "metadata": {
        "colab": {
          "base_uri": "https://localhost:8080/"
        },
        "id": "L4BoqYWQDNyg",
        "outputId": "aa930f96-54f0-4c8a-ccc6-96df549b77ac"
      },
      "outputs": [
        {
          "output_type": "stream",
          "name": "stdout",
          "text": [
            "Drive already mounted at /content/drive; to attempt to forcibly remount, call drive.mount(\"/content/drive\", force_remount=True).\n"
          ]
        }
      ],
      "source": [
        "from google.colab import drive\n",
        "drive.mount('/content/drive')"
      ]
    },
    {
      "cell_type": "markdown",
      "metadata": {
        "id": "PKgSDcG6CbCv"
      },
      "source": [
        "## Load Data"
      ]
    },
    {
      "cell_type": "code",
      "execution_count": 3,
      "metadata": {
        "colab": {
          "base_uri": "https://localhost:8080/"
        },
        "id": "UJnvBkrNRMam",
        "outputId": "a4f5aabc-e397-4164-eca7-157316b26bbf"
      },
      "outputs": [
        {
          "output_type": "execute_result",
          "data": {
            "text/plain": [
              "Index(['ID', 'LIMIT_BAL', 'SEX', 'EDUCATION', 'MARRIAGE', 'AGE', 'PAY_1',\n",
              "       'PAY_2', 'PAY_3', 'PAY_4', 'PAY_5', 'PAY_6', 'BILL_AMT1', 'BILL_AMT2',\n",
              "       'BILL_AMT3', 'BILL_AMT4', 'BILL_AMT5', 'BILL_AMT6', 'PAY_AMT1',\n",
              "       'PAY_AMT2', 'PAY_AMT3', 'PAY_AMT4', 'PAY_AMT5', 'PAY_AMT6',\n",
              "       'DEF_PAY_NMO'],\n",
              "      dtype='object')"
            ]
          },
          "metadata": {},
          "execution_count": 3
        }
      ],
      "source": [
        "data = pd.read_csv(\"/content/drive/MyDrive/Colab Notebooks/Project_folder/Supervised ML - Classification/Credit Card Default Prediction_Processed.csv\")\n",
        "data.columns"
      ]
    },
    {
      "cell_type": "code",
      "execution_count": 4,
      "metadata": {
        "colab": {
          "base_uri": "https://localhost:8080/"
        },
        "id": "g2Qx-mLsC5x_",
        "outputId": "3d6131a1-a52c-420a-f195-c4a0c3530fb0"
      },
      "outputs": [
        {
          "output_type": "stream",
          "name": "stdout",
          "text": [
            "(30000, 25)\n"
          ]
        }
      ],
      "source": [
        "print(data.shape)"
      ]
    },
    {
      "cell_type": "code",
      "execution_count": 5,
      "metadata": {
        "colab": {
          "base_uri": "https://localhost:8080/"
        },
        "id": "FZEMlKBpWiPv",
        "outputId": "6f0b6d77-7f72-4893-a99d-464c4fc9ea69"
      },
      "outputs": [
        {
          "output_type": "stream",
          "name": "stdout",
          "text": [
            "<class 'pandas.core.frame.DataFrame'>\n",
            "RangeIndex: 30000 entries, 0 to 29999\n",
            "Data columns (total 25 columns):\n",
            " #   Column       Non-Null Count  Dtype\n",
            "---  ------       --------------  -----\n",
            " 0   ID           30000 non-null  int64\n",
            " 1   LIMIT_BAL    30000 non-null  int64\n",
            " 2   SEX          30000 non-null  int64\n",
            " 3   EDUCATION    30000 non-null  int64\n",
            " 4   MARRIAGE     30000 non-null  int64\n",
            " 5   AGE          30000 non-null  int64\n",
            " 6   PAY_1        30000 non-null  int64\n",
            " 7   PAY_2        30000 non-null  int64\n",
            " 8   PAY_3        30000 non-null  int64\n",
            " 9   PAY_4        30000 non-null  int64\n",
            " 10  PAY_5        30000 non-null  int64\n",
            " 11  PAY_6        30000 non-null  int64\n",
            " 12  BILL_AMT1    30000 non-null  int64\n",
            " 13  BILL_AMT2    30000 non-null  int64\n",
            " 14  BILL_AMT3    30000 non-null  int64\n",
            " 15  BILL_AMT4    30000 non-null  int64\n",
            " 16  BILL_AMT5    30000 non-null  int64\n",
            " 17  BILL_AMT6    30000 non-null  int64\n",
            " 18  PAY_AMT1     30000 non-null  int64\n",
            " 19  PAY_AMT2     30000 non-null  int64\n",
            " 20  PAY_AMT3     30000 non-null  int64\n",
            " 21  PAY_AMT4     30000 non-null  int64\n",
            " 22  PAY_AMT5     30000 non-null  int64\n",
            " 23  PAY_AMT6     30000 non-null  int64\n",
            " 24  DEF_PAY_NMO  30000 non-null  int64\n",
            "dtypes: int64(25)\n",
            "memory usage: 5.7 MB\n"
          ]
        }
      ],
      "source": [
        "data.info()"
      ]
    },
    {
      "cell_type": "markdown",
      "metadata": {
        "id": "64Ko0Hb7DBRg"
      },
      "source": [
        "## Prepare for Modeling"
      ]
    },
    {
      "cell_type": "markdown",
      "metadata": {
        "id": "TjGTGel2DDzy"
      },
      "source": [
        "### 1. Feature Engineering"
      ]
    },
    {
      "cell_type": "markdown",
      "metadata": {
        "id": "iKPxkxfJg8I6"
      },
      "source": [
        "Covert categorical column into integer by using the LabelEncoder from sklearn "
      ]
    },
    {
      "cell_type": "code",
      "execution_count": 6,
      "metadata": {
        "colab": {
          "base_uri": "https://localhost:8080/"
        },
        "id": "nylw8HZIfpyj",
        "outputId": "1f803971-b521-4f7d-97a8-42baf1dd9688"
      },
      "outputs": [
        {
          "output_type": "execute_result",
          "data": {
            "text/plain": [
              "0        24\n",
              "1        26\n",
              "2        34\n",
              "3        37\n",
              "4        57\n",
              "         ..\n",
              "29995    39\n",
              "29996    43\n",
              "29997    37\n",
              "29998    41\n",
              "29999    46\n",
              "Name: AGE, Length: 30000, dtype: int64"
            ]
          },
          "metadata": {},
          "execution_count": 6
        }
      ],
      "source": [
        "data['AGE']"
      ]
    },
    {
      "cell_type": "code",
      "execution_count": 7,
      "metadata": {
        "colab": {
          "base_uri": "https://localhost:8080/"
        },
        "id": "_hvZ5yj_gDir",
        "outputId": "b882f414-2bbe-40a6-a1d1-2ae5097b6b91"
      },
      "outputs": [
        {
          "output_type": "execute_result",
          "data": {
            "text/plain": [
              "0        0\n",
              "1        0\n",
              "2        1\n",
              "3        1\n",
              "4        3\n",
              "        ..\n",
              "29995    1\n",
              "29996    2\n",
              "29997    1\n",
              "29998    2\n",
              "29999    2\n",
              "Name: AGE_Types_Cat, Length: 30000, dtype: int64"
            ]
          },
          "metadata": {},
          "execution_count": 7
        }
      ],
      "source": [
        "# Bin ‘AGE’ data to 6 groups\n",
        "bins= [21,30,40,50,60,70,80]\n",
        "labels = list(range(6))\n",
        "data['AGE'] = pd.cut(data['AGE'],bins=bins, labels=labels,right=False)\n",
        "\n",
        "from sklearn.preprocessing import LabelEncoder\n",
        "# creating instance of labelencoder\n",
        "labelencoder = LabelEncoder()\n",
        "# Assigning numerical values and storing in another column\n",
        "data['AGE_Types_Cat'] = labelencoder.fit_transform(data['AGE'])\n",
        "data['AGE_Types_Cat']"
      ]
    },
    {
      "cell_type": "code",
      "execution_count": 8,
      "metadata": {
        "id": "P6LuZgHpDIbu"
      },
      "outputs": [],
      "source": [
        "# Another way to covert categorical column into integer by extracting the code of the categories\n",
        "# data.AGE = data.AGE.cat.codes"
      ]
    },
    {
      "cell_type": "markdown",
      "metadata": {
        "id": "1DEyhhslsA6H"
      },
      "source": [
        "### 2. Feature Selection"
      ]
    },
    {
      "cell_type": "code",
      "execution_count": 9,
      "metadata": {
        "id": "v2nYY3A0r-5r"
      },
      "outputs": [],
      "source": [
        "# Define predictor variables and target variable\n",
        "X = data.drop(columns=['ID','AGE','DEF_PAY_NMO'])\n",
        "y = data['DEF_PAY_NMO']\n",
        "\n",
        "# Save all feature names as list\n",
        "feature_cols = X.columns.tolist() \n",
        "\n",
        "# Extract numerical columns and save as a list for rescaling\n",
        "X_num = X.drop(columns=['SEX', 'EDUCATION', 'MARRIAGE', 'AGE_Types_Cat'])\n",
        "num_cols = X_num.columns.tolist()   "
      ]
    },
    {
      "cell_type": "code",
      "execution_count": 10,
      "metadata": {
        "colab": {
          "base_uri": "https://localhost:8080/"
        },
        "id": "9AqyPcgYsZs3",
        "outputId": "b6fce6a1-c4ee-4b0d-9278-15ee084ef716"
      },
      "outputs": [
        {
          "output_type": "execute_result",
          "data": {
            "text/plain": [
              "['LIMIT_BAL',\n",
              " 'PAY_1',\n",
              " 'PAY_2',\n",
              " 'PAY_3',\n",
              " 'PAY_4',\n",
              " 'PAY_5',\n",
              " 'PAY_6',\n",
              " 'BILL_AMT1',\n",
              " 'BILL_AMT2',\n",
              " 'BILL_AMT3',\n",
              " 'BILL_AMT4',\n",
              " 'BILL_AMT5',\n",
              " 'BILL_AMT6',\n",
              " 'PAY_AMT1',\n",
              " 'PAY_AMT2',\n",
              " 'PAY_AMT3',\n",
              " 'PAY_AMT4',\n",
              " 'PAY_AMT5',\n",
              " 'PAY_AMT6']"
            ]
          },
          "metadata": {},
          "execution_count": 10
        }
      ],
      "source": [
        "num_cols"
      ]
    },
    {
      "cell_type": "markdown",
      "metadata": {
        "id": "59wDI6UeI3_m"
      },
      "source": [
        "### 3. Check Class Imbalance"
      ]
    },
    {
      "cell_type": "code",
      "execution_count": 11,
      "metadata": {
        "colab": {
          "base_uri": "https://localhost:8080/",
          "height": 343
        },
        "id": "p6vhddVmI2AP",
        "outputId": "fecf4e0f-6f15-43f7-9c96-6aa316886d9c"
      },
      "outputs": [
        {
          "output_type": "stream",
          "name": "stdout",
          "text": [
            "0    77.88\n",
            "1    22.12\n",
            "Name: DEF_PAY_NMO, dtype: float64\n"
          ]
        },
        {
          "output_type": "display_data",
          "data": {
            "image/png": "[encoded data removed]",
            "text/plain": [
              "<Figure size 432x288 with 1 Axes>"
            ]
          },
          "metadata": {
            "needs_background": "light"
          }
        }
      ],
      "source": [
        "# Check target classes balancec\n",
        "cla_bal = data['DEF_PAY_NMO'].value_counts(normalize=True)*100\n",
        "print(cla_bal)\n",
        "\n",
        "# Plot the classes\n",
        "cla_bal.plot(kind = 'bar')\n",
        "plt.title('Nondefault(0) and default(1) comparison',fontweight = \"bold\")\n",
        "plt.xlabel('Classes')\n",
        "plt.ylabel('Percentage')\n",
        "plt.show()"
      ]
    },
    {
      "cell_type": "markdown",
      "metadata": {
        "id": "yG-oclVkJCus"
      },
      "source": [
        "With typical default classification problems, we expect imbalanced classes as we know most people will not default. This dataset is also imbalanced, with 78% non-default vs. 22% default."
      ]
    },
    {
      "cell_type": "markdown",
      "metadata": {
        "id": "qVSb_lWJJH1X"
      },
      "source": [
        "### 4. Split Training and Test Data\n"
      ]
    },
    {
      "cell_type": "code",
      "execution_count": 12,
      "metadata": {
        "id": "XwENxFIhJLmf"
      },
      "outputs": [],
      "source": [
        "# Define function to split data with and without SMOTE \n",
        "# Also used the Stratified Random Sampling \n",
        "\n",
        "def data_split(X, y, imbalance = False):\n",
        "    # split data \n",
        "    X_train, X_test, y_train, y_test = train_test_split(X, y, test_size=0.3, shuffle=True, stratify=y, random_state=42)\n",
        "    \n",
        "    if imbalance:\n",
        "        # use SMOTE to over sample data\n",
        "        from imblearn.over_sampling import SMOTE\n",
        "        sm = SMOTE(random_state = 42)\n",
        "        X_train, y_train = sm.fit_resample(X_train, y_train) #.ravel())\n",
        "    \n",
        "    return X_train, X_test, y_train, y_test"
      ]
    },
    {
      "cell_type": "markdown",
      "metadata": {
        "id": "PKvB9HRdJZY6"
      },
      "source": [
        "### 5. Rescale Features"
      ]
    },
    {
      "cell_type": "code",
      "execution_count": 13,
      "metadata": {
        "id": "wUzq5dnuJaKt"
      },
      "outputs": [],
      "source": [
        "# Define function to rescale training data using StandardScaler\n",
        "\n",
        "def standard_scaler(X_train, X_test, numerical_cols):\n",
        "    \n",
        "    # Make copies of dataset\n",
        "    X_train_std = X_train.copy()\n",
        "    X_test_std = X_test.copy()\n",
        "    \n",
        "    # Apply standardization on numerical features only\n",
        "    for i in numerical_cols:\n",
        "        scl = StandardScaler().fit(X_train_std[[i]])     # fit on training data columns\n",
        "        X_train_std[i] = scl.transform(X_train_std[[i]]) # transform the training data columns\n",
        "        X_test_std[i] = scl.transform(X_test_std[[i]])   # transform the testing data columns\n",
        "    \n",
        "    return X_train_std,X_test_std"
      ]
    },
    {
      "cell_type": "markdown",
      "metadata": {
        "id": "B1YbM4GuMBL8"
      },
      "source": [
        "## Classification Predictive Modeling\n",
        "1. Logistic Regression\n",
        "2. Random Forest\n",
        "3. XGBoost\n",
        "4. Model Comparison"
      ]
    },
    {
      "cell_type": "markdown",
      "metadata": {
        "id": "aJDtfRrJMMpQ"
      },
      "source": [
        "### 1. Logistic Regression\n",
        "\n",
        "Rescaling the features variables then run Logistic Regression with and without SMOTE sampling to compare ROC_AUC scores."
      ]
    },
    {
      "cell_type": "code",
      "execution_count": 14,
      "metadata": {
        "colab": {
          "base_uri": "https://localhost:8080/",
          "height": 112
        },
        "id": "SI1UQKXroZjr",
        "outputId": "22de7656-5a26-4e57-b130-94147869f384"
      },
      "outputs": [
        {
          "output_type": "execute_result",
          "data": {
            "text/html": [
              "\n",
              "  <div id=\"df-cdc0cdc4-f40e-46f9-912c-5d0cebccf7fc\">\n",
              "    <div class=\"colab-df-container\">\n",
              "      <div>\n",
              "<style scoped>\n",
              "    .dataframe tbody tr th:only-of-type {\n",
              "        vertical-align: middle;\n",
              "    }\n",
              "\n",
              "    .dataframe tbody tr th {\n",
              "        vertical-align: top;\n",
              "    }\n",
              "\n",
              "    .dataframe thead th {\n",
              "        text-align: right;\n",
              "    }\n",
              "</style>\n",
              "<table border=\"1\" class=\"dataframe\">\n",
              "  <thead>\n",
              "    <tr style=\"text-align: right;\">\n",
              "      <th></th>\n",
              "      <th>Model</th>\n",
              "      <th>SMOTE</th>\n",
              "      <th>ROC_AUC Score</th>\n",
              "    </tr>\n",
              "  </thead>\n",
              "  <tbody>\n",
              "    <tr>\n",
              "      <th>0</th>\n",
              "      <td>Logistic Regression</td>\n",
              "      <td>Without SMOTE</td>\n",
              "      <td>0.724889</td>\n",
              "    </tr>\n",
              "    <tr>\n",
              "      <th>1</th>\n",
              "      <td>Logistic Regression</td>\n",
              "      <td>With SMOTE</td>\n",
              "      <td>0.798693</td>\n",
              "    </tr>\n",
              "  </tbody>\n",
              "</table>\n",
              "</div>\n",
              "      <button class=\"colab-df-convert\" onclick=\"convertToInteractive('df-cdc0cdc4-f40e-46f9-912c-5d0cebccf7fc')\"\n",
              "              title=\"Convert this dataframe to an interactive table.\"\n",
              "              style=\"display:none;\">\n",
              "        \n",
              "  <svg xmlns=\"http://www.w3.org/2000/svg\" height=\"24px\"viewBox=\"0 0 24 24\"\n",
              "       width=\"24px\">\n",
              "    <path d=\"M0 0h24v24H0V0z\" fill=\"none\"/>\n",
              "    <path d=\"M18.56 5.44l.94 2.06.94-2.06 2.06-.94-2.06-.94-.94-2.06-.94 2.06-2.06.94zm-11 1L8.5 8.5l.94-2.06 2.06-.94-2.06-.94L8.5 2.5l-.94 2.06-2.06.94zm10 10l.94 2.06.94-2.06 2.06-.94-2.06-.94-.94-2.06-.94 2.06-2.06.94z\"/><path d=\"M17.41 7.96l-1.37-1.37c-.4-.4-.92-.59-1.43-.59-.52 0-1.04.2-1.43.59L10.3 9.45l-7.72 7.72c-.78.78-.78 2.05 0 2.83L4 21.41c.39.39.9.59 1.41.59.51 0 1.02-.2 1.41-.59l7.78-7.78 2.81-2.81c.8-.78.8-2.07 0-2.86zM5.41 20L4 18.59l7.72-7.72 1.47 1.35L5.41 20z\"/>\n",
              "  </svg>\n",
              "      </button>\n",
              "      \n",
              "  <style>\n",
              "    .colab-df-container {\n",
              "      display:flex;\n",
              "      flex-wrap:wrap;\n",
              "      gap: 12px;\n",
              "    }\n",
              "\n",
              "    .colab-df-convert {\n",
              "      background-color: #E8F0FE;\n",
              "      border: none;\n",
              "      border-radius: 50%;\n",
              "      cursor: pointer;\n",
              "      display: none;\n",
              "      fill: #1967D2;\n",
              "      height: 32px;\n",
              "      padding: 0 0 0 0;\n",
              "      width: 32px;\n",
              "    }\n",
              "\n",
              "    .colab-df-convert:hover {\n",
              "      background-color: #E2EBFA;\n",
              "      box-shadow: 0px 1px 2px rgba(60, 64, 67, 0.3), 0px 1px 3px 1px rgba(60, 64, 67, 0.15);\n",
              "      fill: #174EA6;\n",
              "    }\n",
              "\n",
              "    [theme=dark] .colab-df-convert {\n",
              "      background-color: #3B4455;\n",
              "      fill: #D2E3FC;\n",
              "    }\n",
              "\n",
              "    [theme=dark] .colab-df-convert:hover {\n",
              "      background-color: #434B5C;\n",
              "      box-shadow: 0px 1px 3px 1px rgba(0, 0, 0, 0.15);\n",
              "      filter: drop-shadow(0px 1px 2px rgba(0, 0, 0, 0.3));\n",
              "      fill: #FFFFFF;\n",
              "    }\n",
              "  </style>\n",
              "\n",
              "      <script>\n",
              "        const buttonEl =\n",
              "          document.querySelector('#df-cdc0cdc4-f40e-46f9-912c-5d0cebccf7fc button.colab-df-convert');\n",
              "        buttonEl.style.display =\n",
              "          google.colab.kernel.accessAllowed ? 'block' : 'none';\n",
              "\n",
              "        async function convertToInteractive(key) {\n",
              "          const element = document.querySelector('#df-cdc0cdc4-f40e-46f9-912c-5d0cebccf7fc');\n",
              "          const dataTable =\n",
              "            await google.colab.kernel.invokeFunction('convertToInteractive',\n",
              "                                                     [key], {});\n",
              "          if (!dataTable) return;\n",
              "\n",
              "          const docLinkHtml = 'Like what you see? Visit the ' +\n",
              "            '<a target=\"_blank\" href=https://colab.research.google.com/notebooks/data_table.ipynb>data table notebook</a>'\n",
              "            + ' to learn more about interactive tables.';\n",
              "          element.innerHTML = '';\n",
              "          dataTable['output_type'] = 'display_data';\n",
              "          await google.colab.output.renderOutput(dataTable, element);\n",
              "          const docLink = document.createElement('div');\n",
              "          docLink.innerHTML = docLinkHtml;\n",
              "          element.appendChild(docLink);\n",
              "        }\n",
              "      </script>\n",
              "    </div>\n",
              "  </div>\n",
              "  "
            ],
            "text/plain": [
              "                 Model          SMOTE  ROC_AUC Score\n",
              "0  Logistic Regression  Without SMOTE       0.724889\n",
              "1  Logistic Regression     With SMOTE       0.798693"
            ]
          },
          "metadata": {},
          "execution_count": 14
        }
      ],
      "source": [
        "def run_logistic_regression(imbalance=False):\n",
        "    # Split data  \n",
        "    X_train, X_test, y_train, y_test = data_split(X, y, imbalance = imbalance)\n",
        "\n",
        "    # Rescale data\n",
        "    X_train_std, X_test_std = standard_scaler(X_train, X_test, numerical_cols = num_cols)\n",
        "    \n",
        "    # Instantiate model\n",
        "    clf_lr = LogisticRegression(random_state=42)\n",
        "    \n",
        "    # Fit the model\n",
        "    clf_lr.fit(X_train_std, y_train)\n",
        "\n",
        "    # Use model's default parameters to get cross validation score\n",
        "    scores = cross_val_score(clf_lr, X_train_std, y_train, scoring =\"roc_auc\", cv = 8)\n",
        "    roc_auc_lr = np.mean(scores)\n",
        "    \n",
        "    if imbalance:\n",
        "        return \"Logistic Regression\", \"With SMOTE\", roc_auc_lr\n",
        "    else:\n",
        "        return \"Logistic Regression\", \"Without SMOTE\", roc_auc_lr\n",
        "\n",
        "model_result = []\n",
        "model_result.append(run_logistic_regression())\n",
        "model_result.append(run_logistic_regression(imbalance=True))\n",
        "\n",
        "pd.DataFrame(model_result, columns = [\"Model\", \"SMOTE\", \"ROC_AUC Score\"])"
      ]
    },
    {
      "cell_type": "markdown",
      "metadata": {
        "id": "mNq52LKPI08J"
      },
      "source": [
        "Since SMOTE sampling performed better on training data, we will use SMOTE sampling and initial best guess parameters to fit the model."
      ]
    },
    {
      "cell_type": "markdown",
      "metadata": {
        "id": "nLS-f095QdPK"
      },
      "source": [
        "#### Tune Parameters of Logistic Regression with GridSearchCV\n",
        "\n",
        "---\n",
        "\n"
      ]
    },
    {
      "cell_type": "code",
      "execution_count": 15,
      "metadata": {
        "id": "KJFQuq-lQZxs"
      },
      "outputs": [],
      "source": [
        "logModel = LogisticRegression()"
      ]
    },
    {
      "cell_type": "code",
      "execution_count": 16,
      "metadata": {
        "id": "TSgshom7QrNj"
      },
      "outputs": [],
      "source": [
        "param_grid = [    \n",
        "    {'penalty' : ['l1', 'l2', 'elasticnet', 'none'],\n",
        "    'C' : np.logspace(-4, 4, 20),\n",
        "    'solver' : ['lbfgs','newton-cg','liblinear','sag','saga'],\n",
        "    'max_iter' : [100, 200]\n",
        "    }\n",
        "]"
      ]
    },
    {
      "cell_type": "markdown",
      "metadata": {
        "id": "KpE6C5Q7QtAB"
      },
      "source": [
        "More on Hyperparameters\n",
        "* Solver: https://towardsdatascience.com/dont-sweat-the-solver-stuff-aea7cddc3451\n",
        "* L1 and L2 Regularisation: https://towardsdatascience.com/l1-and-l2-regularization-methods-ce25e7fc831c\n",
        "* Slearn Logistic Regression: https://scikit-learn.org/stable/modules/generated/sklearn.linear_model.LogisticRegression.html"
      ]
    },
    {
      "cell_type": "markdown",
      "metadata": {
        "id": "kR4djl7IQ2K6"
      },
      "source": [
        "Import Grid Search"
      ]
    },
    {
      "cell_type": "code",
      "execution_count": 17,
      "metadata": {
        "id": "UW71eK-aQ7Oi"
      },
      "outputs": [],
      "source": [
        "from sklearn.model_selection import GridSearchCV\n",
        "\n",
        "# Split data with SMOTE \n",
        "X_train, X_test, y_train, y_test = data_split(X, y, imbalance = True) \n",
        "\n",
        "# Rescale data\n",
        "X_train_std, X_test_std = standard_scaler(X_train, X_test, numerical_cols = num_cols)"
      ]
    },
    {
      "cell_type": "code",
      "execution_count": 18,
      "metadata": {
        "id": "1SaLLrgBQ-Qp"
      },
      "outputs": [],
      "source": [
        "clf = GridSearchCV(logModel, param_grid = param_grid, cv = 3, verbose=True, n_jobs=-1)"
      ]
    },
    {
      "cell_type": "code",
      "execution_count": 19,
      "metadata": {
        "id": "NdabkDRSRMVX"
      },
      "outputs": [],
      "source": [
        "#best_clf = clf.fit(X_train_std, y_train)"
      ]
    },
    {
      "cell_type": "code",
      "execution_count": 20,
      "metadata": {
        "id": "HDQk1_Qpam4Q"
      },
      "outputs": [],
      "source": [
        "#best_clf.best_params_"
      ]
    },
    {
      "cell_type": "code",
      "execution_count": 21,
      "metadata": {
        "id": "63Xwh44gbGpt"
      },
      "outputs": [],
      "source": [
        "#print(best_clf.best_score_)"
      ]
    },
    {
      "cell_type": "markdown",
      "metadata": {
        "id": "USl6C7VgLBZe"
      },
      "source": [
        "#### Tune Parameters of Logistic Regression with RandomizedSearchCV\n",
        "\n",
        "---\n",
        "\n"
      ]
    },
    {
      "cell_type": "code",
      "execution_count": 22,
      "metadata": {
        "colab": {
          "base_uri": "https://localhost:8080/"
        },
        "id": "0JjqeSM1LBZe",
        "outputId": "9c072a1f-e78e-4a07-847b-aa2951ef945a"
      },
      "outputs": [
        {
          "output_type": "stream",
          "name": "stdout",
          "text": [
            "{'C': 1.49816047538945, 'penalty': 'l2'}\n",
            "0.7294711097523694\n"
          ]
        }
      ],
      "source": [
        "# Randomized search for the best C parameter\n",
        "\n",
        "from sklearn.model_selection import RandomizedSearchCV\n",
        "from scipy.stats import uniform\n",
        "\n",
        "# Split data with SMOTE \n",
        "X_train, X_test, y_train, y_test = data_split(X, y, imbalance = True) \n",
        "\n",
        "# Rescale data\n",
        "X_train_std, X_test_std = standard_scaler(X_train, X_test, numerical_cols = num_cols)\n",
        "\n",
        "logistic = LogisticRegression(solver='liblinear', max_iter=200,random_state=42)\n",
        "distributions = dict(C=uniform(loc=0, scale=4), penalty=['l2', 'l1'])\n",
        "clf = RandomizedSearchCV(logistic, distributions, random_state=42)\n",
        "\n",
        "lr_best= clf.fit(X_train_std, y_train)   \n",
        "\n",
        "print(lr_best.best_params_)\n",
        "print(lr_best.best_score_)"
      ]
    },
    {
      "cell_type": "code",
      "execution_count": 23,
      "metadata": {
        "colab": {
          "base_uri": "https://localhost:8080/"
        },
        "id": "zlL5gUl5LBZe",
        "outputId": "143e1ad1-6a12-4c2e-c3b5-c91b5d7bae2e"
      },
      "outputs": [
        {
          "output_type": "execute_result",
          "data": {
            "text/plain": [
              "['logreg_sm_tuned.pkl']"
            ]
          },
          "metadata": {},
          "execution_count": 23
        }
      ],
      "source": [
        "# Save tuned model and parameters\n",
        "\n",
        "joblib.dump(lr_best,\"logreg_sm_tuned.pkl\") "
      ]
    },
    {
      "cell_type": "code",
      "execution_count": 24,
      "metadata": {
        "id": "gmckMHD7LBZf"
      },
      "outputs": [],
      "source": [
        "lr_best = joblib.load(\"logreg_sm_tuned.pkl\")"
      ]
    },
    {
      "cell_type": "code",
      "execution_count": 25,
      "metadata": {
        "id": "ch_EEnJLLBZf",
        "colab": {
          "base_uri": "https://localhost:8080/"
        },
        "outputId": "86a795b6-0b91-4300-8c2c-41413bd912de"
      },
      "outputs": [
        {
          "output_type": "stream",
          "name": "stdout",
          "text": [
            "ROC_AUC score after tuning parameters:0.797\n"
          ]
        }
      ],
      "source": [
        "# Get ROC_AUC score of tuned model on training data\n",
        "\n",
        "scores_tuned = cross_val_score(lr_best, X_train_std, y_train, scoring = \"roc_auc\", cv = 5)\n",
        "roc_auc_lr_best = np.mean(scores_tuned)\n",
        "\n",
        "print(f'ROC_AUC score after tuning parameters:{roc_auc_lr_best:.3f}')"
      ]
    },
    {
      "cell_type": "code",
      "execution_count": 26,
      "metadata": {
        "colab": {
          "base_uri": "https://localhost:8080/"
        },
        "id": "SpuvVCeRLBZf",
        "outputId": "38a1527b-da40-4e12-f835-a5690a6c5ec9"
      },
      "outputs": [
        {
          "output_type": "execute_result",
          "data": {
            "text/plain": [
              "['logreg_ROC_AUC_CV.pkl']"
            ]
          },
          "metadata": {},
          "execution_count": 26
        }
      ],
      "source": [
        "# Save best ROC_AUC \n",
        "\n",
        "joblib.dump(roc_auc_lr_best,\"logreg_ROC_AUC_CV.pkl\") "
      ]
    },
    {
      "cell_type": "code",
      "execution_count": 27,
      "metadata": {
        "colab": {
          "base_uri": "https://localhost:8080/"
        },
        "id": "37foNPeELBZf",
        "outputId": "0efdeac7-46a1-4bdb-f112-3099663d3ad2"
      },
      "outputs": [
        {
          "output_type": "execute_result",
          "data": {
            "text/plain": [
              "0.7970518179407691"
            ]
          },
          "metadata": {},
          "execution_count": 27
        }
      ],
      "source": [
        "roc_auc_lr_best = joblib.load(\"logreg_ROC_AUC_CV.pkl\")\n",
        "roc_auc_lr_best"
      ]
    },
    {
      "cell_type": "markdown",
      "metadata": {
        "id": "IlOPzoMSLBZf"
      },
      "source": [
        "After fine-tuning parameter C, Logistic Regression model got ROC_AUC training score as 0.792, slightly decreased from original score 0.797. This could mean model is less overfitting the training data."
      ]
    },
    {
      "cell_type": "markdown",
      "metadata": {
        "id": "DeZzitPinB1y"
      },
      "source": [
        "#### Logistic Regression Model Evaluation"
      ]
    },
    {
      "cell_type": "code",
      "execution_count": 28,
      "metadata": {
        "id": "k-_Urs5lnC_I"
      },
      "outputs": [],
      "source": [
        "# Define a function to compute Precision, Recall and F1 score\n",
        "\n",
        "def get_pre_rec_f1(model,X_test,y_test):\n",
        "    y_pred = model.predict(X_test)\n",
        "    tn, fp, fn, tp = confusion_matrix(y_test, y_pred).ravel()\n",
        "    \n",
        "    precision = tp / (tp + fp)\n",
        "    recall = tp / (tp + fn)\n",
        "    F1 = 2 * (precision * recall) / (precision + recall)\n",
        "    \n",
        "    print(f'Precision:{precision:.3f}\\nRecall:{recall:.3f}\\nF1 score:{F1:.3f}')"
      ]
    },
    {
      "cell_type": "code",
      "execution_count": 29,
      "metadata": {
        "colab": {
          "base_uri": "https://localhost:8080/"
        },
        "id": "eNio1GtlnTPn",
        "outputId": "eb038bad-1df2-448e-be48-236632c1e2c8"
      },
      "outputs": [
        {
          "output_type": "stream",
          "name": "stdout",
          "text": [
            "Logistic Regression model on test data:\n",
            "Precision:0.367\n",
            "Recall:0.562\n",
            "F1 score:0.444\n"
          ]
        }
      ],
      "source": [
        "# Calculate precision and recall of Logistic Regression model\n",
        "\n",
        "print('Logistic Regression model on test data:')\n",
        "get_pre_rec_f1(lr_best, X_test_std, y_test)"
      ]
    },
    {
      "cell_type": "markdown",
      "metadata": {
        "id": "alnjVKdinb3w"
      },
      "source": [
        "#### Model Performance:\n",
        "The business nature of credit card default analysis requires model to have a high recall. Logstic Regression model has a recall as 0.566. Let's look at another model - Random Forest to see if we can get a better recall."
      ]
    },
    {
      "cell_type": "markdown",
      "metadata": {
        "id": "YL_EcuT1LBZg"
      },
      "source": [
        "### 2. Random Forest"
      ]
    },
    {
      "cell_type": "markdown",
      "metadata": {
        "id": "52YZ8pzzLBZh"
      },
      "source": [
        "Tree based model does not need feature to be rescaled, so we will skip rescaling step."
      ]
    },
    {
      "cell_type": "code",
      "execution_count": 30,
      "metadata": {
        "colab": {
          "base_uri": "https://localhost:8080/",
          "height": 112
        },
        "id": "TyR9DB-uLBZh",
        "outputId": "b65282bd-1d3d-4988-895f-fc46ae048fdb"
      },
      "outputs": [
        {
          "output_type": "execute_result",
          "data": {
            "text/html": [
              "\n",
              "  <div id=\"df-dd1426fa-efcb-4a1f-8bd3-20798c18ed26\">\n",
              "    <div class=\"colab-df-container\">\n",
              "      <div>\n",
              "<style scoped>\n",
              "    .dataframe tbody tr th:only-of-type {\n",
              "        vertical-align: middle;\n",
              "    }\n",
              "\n",
              "    .dataframe tbody tr th {\n",
              "        vertical-align: top;\n",
              "    }\n",
              "\n",
              "    .dataframe thead th {\n",
              "        text-align: right;\n",
              "    }\n",
              "</style>\n",
              "<table border=\"1\" class=\"dataframe\">\n",
              "  <thead>\n",
              "    <tr style=\"text-align: right;\">\n",
              "      <th></th>\n",
              "      <th>Model</th>\n",
              "      <th>SMOTE</th>\n",
              "      <th>ROC_AUC Score</th>\n",
              "    </tr>\n",
              "  </thead>\n",
              "  <tbody>\n",
              "    <tr>\n",
              "      <th>0</th>\n",
              "      <td>Random Forest</td>\n",
              "      <td>Without SMOTE</td>\n",
              "      <td>0.761032</td>\n",
              "    </tr>\n",
              "    <tr>\n",
              "      <th>1</th>\n",
              "      <td>Random Forest</td>\n",
              "      <td>With SMOTE</td>\n",
              "      <td>0.915815</td>\n",
              "    </tr>\n",
              "  </tbody>\n",
              "</table>\n",
              "</div>\n",
              "      <button class=\"colab-df-convert\" onclick=\"convertToInteractive('df-dd1426fa-efcb-4a1f-8bd3-20798c18ed26')\"\n",
              "              title=\"Convert this dataframe to an interactive table.\"\n",
              "              style=\"display:none;\">\n",
              "        \n",
              "  <svg xmlns=\"http://www.w3.org/2000/svg\" height=\"24px\"viewBox=\"0 0 24 24\"\n",
              "       width=\"24px\">\n",
              "    <path d=\"M0 0h24v24H0V0z\" fill=\"none\"/>\n",
              "    <path d=\"M18.56 5.44l.94 2.06.94-2.06 2.06-.94-2.06-.94-.94-2.06-.94 2.06-2.06.94zm-11 1L8.5 8.5l.94-2.06 2.06-.94-2.06-.94L8.5 2.5l-.94 2.06-2.06.94zm10 10l.94 2.06.94-2.06 2.06-.94-2.06-.94-.94-2.06-.94 2.06-2.06.94z\"/><path d=\"M17.41 7.96l-1.37-1.37c-.4-.4-.92-.59-1.43-.59-.52 0-1.04.2-1.43.59L10.3 9.45l-7.72 7.72c-.78.78-.78 2.05 0 2.83L4 21.41c.39.39.9.59 1.41.59.51 0 1.02-.2 1.41-.59l7.78-7.78 2.81-2.81c.8-.78.8-2.07 0-2.86zM5.41 20L4 18.59l7.72-7.72 1.47 1.35L5.41 20z\"/>\n",
              "  </svg>\n",
              "      </button>\n",
              "      \n",
              "  <style>\n",
              "    .colab-df-container {\n",
              "      display:flex;\n",
              "      flex-wrap:wrap;\n",
              "      gap: 12px;\n",
              "    }\n",
              "\n",
              "    .colab-df-convert {\n",
              "      background-color: #E8F0FE;\n",
              "      border: none;\n",
              "      border-radius: 50%;\n",
              "      cursor: pointer;\n",
              "      display: none;\n",
              "      fill: #1967D2;\n",
              "      height: 32px;\n",
              "      padding: 0 0 0 0;\n",
              "      width: 32px;\n",
              "    }\n",
              "\n",
              "    .colab-df-convert:hover {\n",
              "      background-color: #E2EBFA;\n",
              "      box-shadow: 0px 1px 2px rgba(60, 64, 67, 0.3), 0px 1px 3px 1px rgba(60, 64, 67, 0.15);\n",
              "      fill: #174EA6;\n",
              "    }\n",
              "\n",
              "    [theme=dark] .colab-df-convert {\n",
              "      background-color: #3B4455;\n",
              "      fill: #D2E3FC;\n",
              "    }\n",
              "\n",
              "    [theme=dark] .colab-df-convert:hover {\n",
              "      background-color: #434B5C;\n",
              "      box-shadow: 0px 1px 3px 1px rgba(0, 0, 0, 0.15);\n",
              "      filter: drop-shadow(0px 1px 2px rgba(0, 0, 0, 0.3));\n",
              "      fill: #FFFFFF;\n",
              "    }\n",
              "  </style>\n",
              "\n",
              "      <script>\n",
              "        const buttonEl =\n",
              "          document.querySelector('#df-dd1426fa-efcb-4a1f-8bd3-20798c18ed26 button.colab-df-convert');\n",
              "        buttonEl.style.display =\n",
              "          google.colab.kernel.accessAllowed ? 'block' : 'none';\n",
              "\n",
              "        async function convertToInteractive(key) {\n",
              "          const element = document.querySelector('#df-dd1426fa-efcb-4a1f-8bd3-20798c18ed26');\n",
              "          const dataTable =\n",
              "            await google.colab.kernel.invokeFunction('convertToInteractive',\n",
              "                                                     [key], {});\n",
              "          if (!dataTable) return;\n",
              "\n",
              "          const docLinkHtml = 'Like what you see? Visit the ' +\n",
              "            '<a target=\"_blank\" href=https://colab.research.google.com/notebooks/data_table.ipynb>data table notebook</a>'\n",
              "            + ' to learn more about interactive tables.';\n",
              "          element.innerHTML = '';\n",
              "          dataTable['output_type'] = 'display_data';\n",
              "          await google.colab.output.renderOutput(dataTable, element);\n",
              "          const docLink = document.createElement('div');\n",
              "          docLink.innerHTML = docLinkHtml;\n",
              "          element.appendChild(docLink);\n",
              "        }\n",
              "      </script>\n",
              "    </div>\n",
              "  </div>\n",
              "  "
            ],
            "text/plain": [
              "           Model          SMOTE  ROC_AUC Score\n",
              "0  Random Forest  Without SMOTE       0.761032\n",
              "1  Random Forest     With SMOTE       0.915815"
            ]
          },
          "metadata": {},
          "execution_count": 30
        }
      ],
      "source": [
        "def run_random_forest(imbalance=False):\n",
        "    # Split data  \n",
        "    X_train, X_test, y_train, y_test = data_split(X, y, imbalance = imbalance)\n",
        "    \n",
        "    # Instantiate model\n",
        "    clf_rf = RandomForestClassifier()\n",
        "   \n",
        "    # Fit the model\n",
        "    clf_rf.fit(X_train, y_train)\n",
        "\n",
        "    # Use model's default parameters to get cross validation score\n",
        "    scores = cross_val_score(clf_rf, X_train, y_train, scoring =\"roc_auc\", cv = 5)\n",
        "    roc_auc_rf = np.mean(scores)\n",
        "    \n",
        "    if imbalance:\n",
        "        return \"Random Forest\", \"With SMOTE\", roc_auc_rf\n",
        "    else:\n",
        "        return \"Random Forest\", \"Without SMOTE\", roc_auc_rf\n",
        "\n",
        "model_result = []\n",
        "model_result.append(run_random_forest())\n",
        "model_result.append(run_random_forest(imbalance=True))\n",
        "\n",
        "pd.DataFrame(model_result, columns = [\"Model\", \"SMOTE\", \"ROC_AUC Score\"])"
      ]
    },
    {
      "cell_type": "markdown",
      "metadata": {
        "id": "Sfnr3NL8LBZh"
      },
      "source": [
        "Again, SMOTE sampling has a better performance. With the default parameters, Random Forest model generated ROC-AUC score 0.916 on training data, which is better than Logistic Regression model. Next, we will try to fine tune the hyperparameters with SMOTE sampling."
      ]
    },
    {
      "cell_type": "markdown",
      "metadata": {
        "id": "FQRV8_3SLBZh"
      },
      "source": [
        "#### Tune Parameters of Random Forest"
      ]
    },
    {
      "cell_type": "code",
      "execution_count": 31,
      "metadata": {
        "id": "5TL2Qa4QLBZh"
      },
      "outputs": [],
      "source": [
        "# Split data with SMOTE\n",
        "X_train_sm, X_test, y_train_sm, y_test = data_split(X, y, imbalance = True)"
      ]
    },
    {
      "cell_type": "code",
      "execution_count": 32,
      "metadata": {
        "colab": {
          "base_uri": "https://localhost:8080/"
        },
        "id": "5UHfEpa_LBZh",
        "outputId": "bfdc856a-9675-45b1-b9c0-ffde862d5711"
      },
      "outputs": [
        {
          "output_type": "stream",
          "name": "stdout",
          "text": [
            "Fitting 3 folds for each of 27 candidates, totalling 81 fits\n"
          ]
        },
        {
          "output_type": "execute_result",
          "data": {
            "text/plain": [
              "{'max_depth': 110, 'min_samples_leaf': 3, 'min_samples_split': 8}"
            ]
          },
          "metadata": {},
          "execution_count": 32
        }
      ],
      "source": [
        "# Create parameter grid  \n",
        "param_grid = {\n",
        "    'max_depth': [60, 90, 110],\n",
        "    'min_samples_leaf': [3, 4, 5],\n",
        "    'min_samples_split': [8, 10, 12],\n",
        "    #'n_estimators': [100, 200, 300]\n",
        "}\n",
        "\n",
        "# Instantiate the model\n",
        "clf_rf = RandomForestClassifier()\n",
        "\n",
        "# Instantiate grid search model\n",
        "grid_search = GridSearchCV(estimator = clf_rf, param_grid = param_grid,    \n",
        "                          cv = 3, n_jobs = -1, verbose = 1)\n",
        "\n",
        "# Fit grid search to the data\n",
        "grid_search.fit(X_train_sm, y_train_sm)\n",
        "grid_search.best_params_"
      ]
    },
    {
      "cell_type": "code",
      "execution_count": 33,
      "metadata": {
        "colab": {
          "base_uri": "https://localhost:8080/"
        },
        "id": "hxsoRRNkLBZi",
        "outputId": "840a05cf-b2c4-44c7-fd86-8305f361dd46"
      },
      "outputs": [
        {
          "output_type": "execute_result",
          "data": {
            "text/plain": [
              "['RandomForest_tuned_final.pkl']"
            ]
          },
          "metadata": {},
          "execution_count": 33
        }
      ],
      "source": [
        "# Save tuned model\n",
        "\n",
        "joblib.dump(grid_search,\"RandomForest_tuned_final.pkl\")"
      ]
    },
    {
      "cell_type": "code",
      "execution_count": 34,
      "metadata": {
        "id": "5tREJRAULBZi"
      },
      "outputs": [],
      "source": [
        "grid_search = joblib.load(\"RandomForest_tuned_final.pkl\")"
      ]
    },
    {
      "cell_type": "code",
      "execution_count": 35,
      "metadata": {
        "colab": {
          "base_uri": "https://localhost:8080/"
        },
        "id": "Q-yecy5yLBZi",
        "outputId": "35087b6e-3d96-410a-a7ee-fe630b720aa0"
      },
      "outputs": [
        {
          "output_type": "stream",
          "name": "stdout",
          "text": [
            "ROC_AUC training score after tuning for Random Forest: 0.905\n"
          ]
        }
      ],
      "source": [
        "# Use the best parameters to fit the model\n",
        "\n",
        "rf_best = RandomForestClassifier(**grid_search.best_params_)   \n",
        "rf_best.fit(X_train_sm,y_train_sm)\n",
        "\n",
        "scores_best = cross_val_score(rf_best, X_train_sm, y_train_sm, scoring =\"roc_auc\", cv = 5)\n",
        "roc_auc_best = np.mean(scores_best)\n",
        "\n",
        "print(f'ROC_AUC training score after tuning for Random Forest: {roc_auc_best:.3f}')"
      ]
    },
    {
      "cell_type": "markdown",
      "metadata": {
        "id": "H6wZ50DYLBZi"
      },
      "source": [
        "After tuning parameters, Random Forest model's ROC-AUC score decreased slightly to 0.906."
      ]
    },
    {
      "cell_type": "markdown",
      "metadata": {
        "id": "5UQxAhgTLBZi"
      },
      "source": [
        "#### Random Forest Model Evaluation"
      ]
    },
    {
      "cell_type": "markdown",
      "metadata": {
        "id": "vzdTVM3MLBZi"
      },
      "source": [
        "#### Precision_Recall and F1 Score"
      ]
    },
    {
      "cell_type": "code",
      "execution_count": 36,
      "metadata": {
        "colab": {
          "base_uri": "https://localhost:8080/"
        },
        "id": "FENHCjKyLBZi",
        "outputId": "6573d42e-2775-4d43-9286-e4572b87692c"
      },
      "outputs": [
        {
          "output_type": "stream",
          "name": "stdout",
          "text": [
            "Random Forest model on test data:\n",
            "Precision:0.511\n",
            "Recall:0.517\n",
            "F1 score:0.514\n"
          ]
        }
      ],
      "source": [
        "# Compute precision, recall and F1 score of Random Forest model on test data\n",
        "\n",
        "print('Random Forest model on test data:')\n",
        "get_pre_rec_f1(rf_best, X_test, y_test)"
      ]
    },
    {
      "cell_type": "markdown",
      "metadata": {
        "id": "UNPfhAyoLBZj"
      },
      "source": [
        "#### Model Performance:\n",
        "\n",
        "Random Forest has recall rate as 0.515 and F1 score as 0.513. Now we will try another model XGBoost."
      ]
    },
    {
      "cell_type": "markdown",
      "metadata": {
        "id": "TQSrrnMpLBZj"
      },
      "source": [
        "### 3. XGBoost"
      ]
    },
    {
      "cell_type": "code",
      "execution_count": 37,
      "metadata": {
        "colab": {
          "base_uri": "https://localhost:8080/",
          "height": 112
        },
        "id": "0NPK_fVJLBZj",
        "outputId": "2f64b5be-b8f3-4b83-8031-bd26ef30b072"
      },
      "outputs": [
        {
          "output_type": "execute_result",
          "data": {
            "text/html": [
              "\n",
              "  <div id=\"df-1fdfb2a6-e730-4ad2-b31f-68325acf8378\">\n",
              "    <div class=\"colab-df-container\">\n",
              "      <div>\n",
              "<style scoped>\n",
              "    .dataframe tbody tr th:only-of-type {\n",
              "        vertical-align: middle;\n",
              "    }\n",
              "\n",
              "    .dataframe tbody tr th {\n",
              "        vertical-align: top;\n",
              "    }\n",
              "\n",
              "    .dataframe thead th {\n",
              "        text-align: right;\n",
              "    }\n",
              "</style>\n",
              "<table border=\"1\" class=\"dataframe\">\n",
              "  <thead>\n",
              "    <tr style=\"text-align: right;\">\n",
              "      <th></th>\n",
              "      <th>Model</th>\n",
              "      <th>SMOTE</th>\n",
              "      <th>ROC_AUC Score</th>\n",
              "    </tr>\n",
              "  </thead>\n",
              "  <tbody>\n",
              "    <tr>\n",
              "      <th>0</th>\n",
              "      <td>XGBoost</td>\n",
              "      <td>Without SMOTE</td>\n",
              "      <td>0.782039</td>\n",
              "    </tr>\n",
              "    <tr>\n",
              "      <th>1</th>\n",
              "      <td>XGBoost</td>\n",
              "      <td>With SMOTE</td>\n",
              "      <td>0.857400</td>\n",
              "    </tr>\n",
              "  </tbody>\n",
              "</table>\n",
              "</div>\n",
              "      <button class=\"colab-df-convert\" onclick=\"convertToInteractive('df-1fdfb2a6-e730-4ad2-b31f-68325acf8378')\"\n",
              "              title=\"Convert this dataframe to an interactive table.\"\n",
              "              style=\"display:none;\">\n",
              "        \n",
              "  <svg xmlns=\"http://www.w3.org/2000/svg\" height=\"24px\"viewBox=\"0 0 24 24\"\n",
              "       width=\"24px\">\n",
              "    <path d=\"M0 0h24v24H0V0z\" fill=\"none\"/>\n",
              "    <path d=\"M18.56 5.44l.94 2.06.94-2.06 2.06-.94-2.06-.94-.94-2.06-.94 2.06-2.06.94zm-11 1L8.5 8.5l.94-2.06 2.06-.94-2.06-.94L8.5 2.5l-.94 2.06-2.06.94zm10 10l.94 2.06.94-2.06 2.06-.94-2.06-.94-.94-2.06-.94 2.06-2.06.94z\"/><path d=\"M17.41 7.96l-1.37-1.37c-.4-.4-.92-.59-1.43-.59-.52 0-1.04.2-1.43.59L10.3 9.45l-7.72 7.72c-.78.78-.78 2.05 0 2.83L4 21.41c.39.39.9.59 1.41.59.51 0 1.02-.2 1.41-.59l7.78-7.78 2.81-2.81c.8-.78.8-2.07 0-2.86zM5.41 20L4 18.59l7.72-7.72 1.47 1.35L5.41 20z\"/>\n",
              "  </svg>\n",
              "      </button>\n",
              "      \n",
              "  <style>\n",
              "    .colab-df-container {\n",
              "      display:flex;\n",
              "      flex-wrap:wrap;\n",
              "      gap: 12px;\n",
              "    }\n",
              "\n",
              "    .colab-df-convert {\n",
              "      background-color: #E8F0FE;\n",
              "      border: none;\n",
              "      border-radius: 50%;\n",
              "      cursor: pointer;\n",
              "      display: none;\n",
              "      fill: #1967D2;\n",
              "      height: 32px;\n",
              "      padding: 0 0 0 0;\n",
              "      width: 32px;\n",
              "    }\n",
              "\n",
              "    .colab-df-convert:hover {\n",
              "      background-color: #E2EBFA;\n",
              "      box-shadow: 0px 1px 2px rgba(60, 64, 67, 0.3), 0px 1px 3px 1px rgba(60, 64, 67, 0.15);\n",
              "      fill: #174EA6;\n",
              "    }\n",
              "\n",
              "    [theme=dark] .colab-df-convert {\n",
              "      background-color: #3B4455;\n",
              "      fill: #D2E3FC;\n",
              "    }\n",
              "\n",
              "    [theme=dark] .colab-df-convert:hover {\n",
              "      background-color: #434B5C;\n",
              "      box-shadow: 0px 1px 3px 1px rgba(0, 0, 0, 0.15);\n",
              "      filter: drop-shadow(0px 1px 2px rgba(0, 0, 0, 0.3));\n",
              "      fill: #FFFFFF;\n",
              "    }\n",
              "  </style>\n",
              "\n",
              "      <script>\n",
              "        const buttonEl =\n",
              "          document.querySelector('#df-1fdfb2a6-e730-4ad2-b31f-68325acf8378 button.colab-df-convert');\n",
              "        buttonEl.style.display =\n",
              "          google.colab.kernel.accessAllowed ? 'block' : 'none';\n",
              "\n",
              "        async function convertToInteractive(key) {\n",
              "          const element = document.querySelector('#df-1fdfb2a6-e730-4ad2-b31f-68325acf8378');\n",
              "          const dataTable =\n",
              "            await google.colab.kernel.invokeFunction('convertToInteractive',\n",
              "                                                     [key], {});\n",
              "          if (!dataTable) return;\n",
              "\n",
              "          const docLinkHtml = 'Like what you see? Visit the ' +\n",
              "            '<a target=\"_blank\" href=https://colab.research.google.com/notebooks/data_table.ipynb>data table notebook</a>'\n",
              "            + ' to learn more about interactive tables.';\n",
              "          element.innerHTML = '';\n",
              "          dataTable['output_type'] = 'display_data';\n",
              "          await google.colab.output.renderOutput(dataTable, element);\n",
              "          const docLink = document.createElement('div');\n",
              "          docLink.innerHTML = docLinkHtml;\n",
              "          element.appendChild(docLink);\n",
              "        }\n",
              "      </script>\n",
              "    </div>\n",
              "  </div>\n",
              "  "
            ],
            "text/plain": [
              "     Model          SMOTE  ROC_AUC Score\n",
              "0  XGBoost  Without SMOTE       0.782039\n",
              "1  XGBoost     With SMOTE       0.857400"
            ]
          },
          "metadata": {},
          "execution_count": 37
        }
      ],
      "source": [
        "def run_xgboost(imbalance=False):\n",
        "    # Split data  \n",
        "    X_train, X_test, y_train, y_test = data_split(X, y, imbalance = imbalance)\n",
        "    \n",
        "    # Instantiate model with default parameters\n",
        "    clf_xgb = XGBClassifier()\n",
        "    \n",
        "    # Fit the model\n",
        "    clf_xgb.fit(X_train, y_train)\n",
        "\n",
        "    # Use model's default parameters to get cross validation score\n",
        "    scores = cross_val_score(clf_xgb, X_train, y_train, scoring =\"roc_auc\", cv = 5)\n",
        "    roc_auc_xgb = np.mean(scores)\n",
        "    \n",
        "    if imbalance:\n",
        "        return \"XGBoost\", \"With SMOTE\", roc_auc_xgb\n",
        "    else:\n",
        "        return \"XGBoost\", \"Without SMOTE\", roc_auc_xgb\n",
        "\n",
        "    \n",
        "model_result = []\n",
        "model_result.append(run_xgboost())                  \n",
        "model_result.append(run_xgboost(imbalance=True))    \n",
        "\n",
        "pd.DataFrame(model_result, columns = [\"Model\", \"SMOTE\", \"ROC_AUC Score\"])"
      ]
    },
    {
      "cell_type": "markdown",
      "metadata": {
        "id": "FYgVZjSgLBZj"
      },
      "source": [
        "Since SMOTE sampling performed better on training data, we will use SMOTE sampling and initial best guess parameters to fit the model."
      ]
    },
    {
      "cell_type": "code",
      "execution_count": 38,
      "metadata": {
        "id": "42MKdDukLBZj"
      },
      "outputs": [],
      "source": [
        "# Sampling and split data with SMOTE\n",
        "X_train_sm, X_test, y_train_sm, y_test = data_split(X, y, imbalance = True)"
      ]
    },
    {
      "cell_type": "code",
      "execution_count": 39,
      "metadata": {
        "colab": {
          "base_uri": "https://localhost:8080/"
        },
        "id": "q4ZgFuv5LBZj",
        "outputId": "b3f922cc-4923-41ce-92ea-6c8ebd3a03c9"
      },
      "outputs": [
        {
          "output_type": "stream",
          "name": "stdout",
          "text": [
            "ROC_AUC training score with initial best parameters for XGBoost: 0.812\n"
          ]
        }
      ],
      "source": [
        "# Instantiate models with initial best guess parameters\n",
        "\n",
        "params = { \n",
        "    'gamma':0,\n",
        "    'learning_rate':0.01, \n",
        "    'max_depth':3, \n",
        "    'colsample_bytree':0.6,\n",
        "    'subsample':0.8,\n",
        "    'scale_pos_weight':3.5,\n",
        "    'n_estimators':100,\n",
        "    'objective':'binary:logistic', \n",
        "    'reg_alpha':0.3    \n",
        "}\n",
        "    \n",
        "# Instantiate model\n",
        "clf_xgb = XGBClassifier(**params)\n",
        "\n",
        "# Use model's initial parameters to get cross validation score\n",
        "scores = cross_val_score(clf_xgb, X_train_sm, y_train_sm, scoring =\"roc_auc\", cv = 5)\n",
        "roc_auc_xgb = np.mean(scores)\n",
        "\n",
        "print(f'ROC_AUC training score with initial best parameters for XGBoost: {roc_auc_xgb:.3f}')"
      ]
    },
    {
      "cell_type": "markdown",
      "metadata": {
        "id": "WLm0SmVALBZk"
      },
      "source": [
        "#### Tune Parameters of XGBoost"
      ]
    },
    {
      "cell_type": "code",
      "execution_count": 40,
      "metadata": {
        "colab": {
          "base_uri": "https://localhost:8080/"
        },
        "id": "3WFVkSQ8LBZk",
        "outputId": "5269006a-c2d7-4d42-a276-c0ecd97d5d37"
      },
      "outputs": [
        {
          "output_type": "stream",
          "name": "stdout",
          "text": [
            "{'colsample_bytree': array([0.5, 0.6, 0.7, 0.8]),\n",
            " 'gamma': array([0.1, 0.2, 0.3, 0.4, 0.5]),\n",
            " 'learning_rate': array([0.1, 0.2, 0.3, 0.4, 0.5]),\n",
            " 'max_depth': [3, 4, 5, 6, 7],\n",
            " 'n_estimators': array([ 50, 100, 150]),\n",
            " 'scale_pos_weight': [1, 3.5],\n",
            " 'subsample': array([0.5, 0.6, 0.7, 0.8])}\n"
          ]
        }
      ],
      "source": [
        "# Number of trees\n",
        "n_estimators = np.arange(50, 200, 50)\n",
        "\n",
        "# Minimum loss reduction required to make a further partition on a leaf node of the tree\n",
        "# The larger gamma is, the more conservative the algorithm will be\n",
        "gamma = np.arange(0.1,0.6,0.1)\n",
        "\n",
        "# Default 0.3, range(0,1)\n",
        "learning_rate = np.arange(0.1,0.6,0.1)\n",
        "\n",
        "# Maximum number of levels in tree\n",
        "max_depth = list(range(3,8,1))\n",
        "\n",
        "# Subsample ratio of the training instances.Range(0,1)\n",
        "subsample = np.arange(0.5,0.9,0.1)\n",
        "\n",
        "# Subsample ratio of columns when constructing each tree. Range(0,1)\n",
        "colsample_bytree = np.arange(0.5,0.9,0.1)\n",
        "\n",
        "# Control the balance of positive and negative weights\n",
        "# Sum(negative instances) / sum(positive instances)\n",
        "scale_pos_weight = [1,3.5]\n",
        "\n",
        "\n",
        "# Create the random grid\n",
        "random_grid_xgb = {'n_estimators': n_estimators,\n",
        "                   'gamma': gamma,\n",
        "                   'learning_rate':learning_rate,\n",
        "                   'max_depth': max_depth,\n",
        "                   'subsample':subsample,\n",
        "                   'colsample_bytree':colsample_bytree,\n",
        "                   'scale_pos_weight':scale_pos_weight\n",
        "                  }\n",
        "pprint(random_grid_xgb)"
      ]
    },
    {
      "cell_type": "code",
      "execution_count": 41,
      "metadata": {
        "colab": {
          "base_uri": "https://localhost:8080/"
        },
        "id": "dNmx0qxELBZk",
        "outputId": "e5c1e25b-37f4-4f97-ff3b-6b8e8509cc8c"
      },
      "outputs": [
        {
          "output_type": "stream",
          "name": "stdout",
          "text": [
            "Fitting 3 folds for each of 10 candidates, totalling 30 fits\n",
            "{'subsample': 0.7, 'scale_pos_weight': 1, 'n_estimators': 100, 'max_depth': 7, 'learning_rate': 0.2, 'gamma': 0.30000000000000004, 'colsample_bytree': 0.6} 0.8775134192211363\n"
          ]
        }
      ],
      "source": [
        "# Use randomized search to find best parameters\n",
        "\n",
        "xgboost = XGBClassifier()\n",
        "xgb_random = RandomizedSearchCV(estimator = xgboost, \n",
        "                                param_distributions = random_grid_xgb, \n",
        "                                n_iter = 100, \n",
        "                                cv = 3, \n",
        "                                verbose=1, \n",
        "                                random_state=42, \n",
        "                                n_jobs = -1,\n",
        "                                scoring ='roc_auc')\n",
        "\n",
        "\n",
        "xgb_random.fit(X_train_sm, y_train_sm)   \n",
        "xgb_random.best_params_, xgb_random.best_score_\n",
        "\n",
        "print(xgb_random.best_params_,xgb_random.best_score_)"
      ]
    },
    {
      "cell_type": "code",
      "execution_count": 42,
      "metadata": {
        "id": "rmQUvAdALBZk",
        "colab": {
          "base_uri": "https://localhost:8080/"
        },
        "outputId": "75b1e5f7-d759-4055-d476-d0f49c4a7318"
      },
      "outputs": [
        {
          "output_type": "execute_result",
          "data": {
            "text/plain": [
              "['xgb_random_final.pkl']"
            ]
          },
          "metadata": {},
          "execution_count": 42
        }
      ],
      "source": [
        "# Save tuned model for future use\n",
        "\n",
        "joblib.dump(xgb_random,'xgb_random_final.pkl')"
      ]
    },
    {
      "cell_type": "markdown",
      "metadata": {
        "id": "xhgpQT_ULBZk"
      },
      "source": [
        "After tuning hyperparameters, XGBoost has a ROC_AUC score of 0.898 on training data."
      ]
    },
    {
      "cell_type": "markdown",
      "metadata": {
        "id": "eS-tDMlKLBZl"
      },
      "source": [
        "#### XGBoost Model Evaluation"
      ]
    },
    {
      "cell_type": "code",
      "execution_count": 43,
      "metadata": {
        "id": "lswIjPzuLBZl",
        "colab": {
          "base_uri": "https://localhost:8080/"
        },
        "outputId": "dad51f5f-68aa-4252-a9d9-4f2e53568d13"
      },
      "outputs": [
        {
          "output_type": "stream",
          "name": "stdout",
          "text": [
            "XGBoost model on test data:\n",
            "Precision:0.470\n",
            "Recall:0.472\n",
            "F1 score:0.471\n"
          ]
        }
      ],
      "source": [
        "# Compute precision, recall and F1 score of tuned XGBoost model on test data\n",
        "\n",
        "print('XGBoost model on test data:')\n",
        "\n",
        "get_pre_rec_f1(xgb_random, X_test, y_test)\n"
      ]
    },
    {
      "cell_type": "markdown",
      "metadata": {
        "id": "nkxacc5KuvRw"
      },
      "source": [
        "## Model Comparison"
      ]
    },
    {
      "cell_type": "markdown",
      "metadata": {
        "id": "w73wTMISLBZl"
      },
      "source": [
        "#### Confusion Matrix"
      ]
    },
    {
      "cell_type": "code",
      "execution_count": 44,
      "metadata": {
        "id": "Rla9hlrTLBZl",
        "colab": {
          "base_uri": "https://localhost:8080/",
          "height": 910
        },
        "outputId": "4803575e-b45b-403d-aeba-1fd9a1047ea6"
      },
      "outputs": [
        {
          "output_type": "execute_result",
          "data": {
            "text/plain": [
              "Text(0.5, 1.0, 'XGBoost')"
            ]
          },
          "metadata": {},
          "execution_count": 44
        },
        {
          "output_type": "display_data",
          "data": {
            "image/png": "[encoded data removed]",
            "text/plain": [
              "<Figure size 720x1080 with 6 Axes>"
            ]
          },
          "metadata": {
            "needs_background": "light"
          }
        }
      ],
      "source": [
        "# Plot confusion matrix of 3 models\n",
        "\n",
        "fig,ax=plt.subplots(3,1, figsize=(10,15))\n",
        "\n",
        "plot_confusion_matrix(lr_best, X_test_std, y_test, ax = ax[0], values_format=\"d\")\n",
        "ax[0].set_title(\"Logistic Regression\")\n",
        "\n",
        "plot_confusion_matrix(rf_best, X_test, y_test, ax = ax[1], values_format=\"d\")\n",
        "ax[1].set_title(\"Random Forest\")\n",
        "\n",
        "plot_confusion_matrix(xgb_random, X_test, y_test, ax = ax[2], values_format=\"d\")\n",
        "ax[2].set_title(\"XGBoost\")"
      ]
    },
    {
      "cell_type": "markdown",
      "metadata": {
        "id": "e6VciKxLLBZl"
      },
      "source": [
        "#### ROC_AUC Curve"
      ]
    },
    {
      "cell_type": "code",
      "execution_count": 45,
      "metadata": {
        "id": "_eyyqIS9LBZl",
        "colab": {
          "base_uri": "https://localhost:8080/",
          "height": 350
        },
        "outputId": "728c5fdb-55a5-4422-aae8-b323e9427b23"
      },
      "outputs": [
        {
          "output_type": "display_data",
          "data": {
            "image/png": "[encoded data removed]",
            "text/plain": [
              "<Figure size 720x360 with 1 Axes>"
            ]
          },
          "metadata": {
            "needs_background": "light"
          }
        }
      ],
      "source": [
        "# Plot ROC_AUC curve of 3 models\n",
        " \n",
        "fig,ax=plt.subplots(figsize=(10,5))\n",
        "\n",
        "plot_roc_curve(lr_best, X_test_std, y_test,ax=ax, color=\"blue\",label='Logistic Regression')\n",
        "plot_roc_curve(rf_best, X_test, y_test,ax=ax, color=\"black\",label='Random Forest')\n",
        "plot_roc_curve(xgb_random, X_test, y_test,ax=ax, color=\"red\",label='XGBoost')\n",
        "\n",
        "plt.title('ROC/AUC of 3 models')\n",
        "plt.grid()"
      ]
    },
    {
      "cell_type": "markdown",
      "metadata": {
        "id": "JH76B1rGLBZl"
      },
      "source": [
        "#### Precision_Recall Curve"
      ]
    },
    {
      "cell_type": "markdown",
      "metadata": {
        "id": "s5Q2G21sLBZm"
      },
      "source": [
        "Since the classes are imbalanced, precision_recall curve is more approriate."
      ]
    },
    {
      "cell_type": "code",
      "execution_count": 46,
      "metadata": {
        "id": "777ohP_CLBZm",
        "colab": {
          "base_uri": "https://localhost:8080/",
          "height": 350
        },
        "outputId": "c66abb73-e798-4f1f-e983-477706703075"
      },
      "outputs": [
        {
          "output_type": "display_data",
          "data": {
            "image/png": "[encoded data removed]",
            "text/plain": [
              "<Figure size 720x360 with 1 Axes>"
            ]
          },
          "metadata": {
            "needs_background": "light"
          }
        }
      ],
      "source": [
        "# Compare 3 models' Precision_recall curves\n",
        "\n",
        "fig,ax=plt.subplots(figsize=(10,5))\n",
        "\n",
        "plot_precision_recall_curve(lr_best, X_test_std, y_test, ax=ax,color=\"blue\",label='Logistic Regression')\n",
        "plot_precision_recall_curve(rf_best, X_test, y_test, ax=ax,color=\"black\",label='Random Forest')\n",
        "plot_precision_recall_curve(xgb_random, X_test, y_test, ax=ax,color=\"red\",label='XGBoost')\n",
        "\n",
        "plt.title('Precision_Recall of 3 models')\n",
        "plt.grid()"
      ]
    },
    {
      "cell_type": "markdown",
      "metadata": {
        "id": "PbLJVDhiLBZm"
      },
      "source": [
        "#### Compare Models with DummyClassifier"
      ]
    },
    {
      "cell_type": "code",
      "execution_count": 47,
      "metadata": {
        "id": "1eXjT-bdLBZm",
        "colab": {
          "base_uri": "https://localhost:8080/"
        },
        "outputId": "1739b528-a28d-499c-8f60-9e5f4cd7c7c8"
      },
      "outputs": [
        {
          "output_type": "stream",
          "name": "stdout",
          "text": [
            "Dummy model:\n",
            "Precision:0.219\n",
            "Recall:0.496\n",
            "F1 score:0.304\n"
          ]
        }
      ],
      "source": [
        "from sklearn.dummy import DummyClassifier\n",
        "\n",
        "dummy_clf = DummyClassifier(strategy=\"stratified\")\n",
        "dummy_clf.fit(X_train, y_train)\n",
        "DummyClassifier(strategy='stratified')\n",
        "y_pred_dummy = dummy_clf.predict(X_test)\n",
        "\n",
        "print('Dummy model:')\n",
        "get_pre_rec_f1(dummy_clf, X_test, y_test)"
      ]
    },
    {
      "cell_type": "markdown",
      "metadata": {
        "id": "cYkkvvWdLBZm"
      },
      "source": [
        "All 3 models outperformed the dummy classifier's performance. Logistic Regression model has the best recall and Random Forest has the best Precision_Recall balance. "
      ]
    },
    {
      "cell_type": "markdown",
      "metadata": {
        "id": "7eafNAl7LBZm"
      },
      "source": [
        "| Models|Precision|Recall|F1 Score|Conclusion|\n",
        "| --- | --- | --- | --- |--- |\n",
        "| Dummy Model|0.217|0.500|0.303|Benchmark|\n",
        "| Logistic Regression|0.384|0.566|0.457|Best recall|\n",
        "| Random Forest|0.512|0.515|0.514|Best model|\n",
        "| XGBoost|0.444|0.505|0.474|Good|"
      ]
    },
    {
      "cell_type": "markdown",
      "metadata": {
        "id": "Rg6uwZx5LBZm"
      },
      "source": [
        "#### Model Recommendation"
      ]
    },
    {
      "cell_type": "markdown",
      "metadata": {
        "id": "UXW7eDlfLBZm"
      },
      "source": [
        "We recommend recall = 0.8, however, the threshold can be adjusted to reach higher recall."
      ]
    },
    {
      "cell_type": "code",
      "execution_count": 48,
      "metadata": {
        "id": "2y_3QYDkLBZn",
        "colab": {
          "base_uri": "https://localhost:8080/"
        },
        "outputId": "33b6f697-f731-4f62-940e-371596d3bd3c"
      },
      "outputs": [
        {
          "output_type": "execute_result",
          "data": {
            "text/plain": [
              "(0.7995981918633852, 0.3260958623514953, 0.25634981684981684)"
            ]
          },
          "metadata": {},
          "execution_count": 48
        }
      ],
      "source": [
        "# Compute precision, recall and threshold of Random Forest\n",
        "\n",
        "y_predict_rf = rf_best.predict_proba(X_test)\n",
        "y_scores_rf = y_predict_rf[:,1]\n",
        "\n",
        "precisions, recalls, thresholds = precision_recall_curve(y_test, y_scores_rf)\n",
        "\n",
        "recalls_80 = recalls[np.argmin(recalls >= 0.80)]               # Recommend recall score = 0.8\n",
        "precision_80 = precisions[np.argmin(recalls >= 0.80)]\n",
        "threshold_80_recall = thresholds[np.argmin(recalls >= 0.80)]\n",
        "\n",
        "thresholds = np.append(thresholds, 1)\n",
        "\n",
        "recalls_80, precision_80, threshold_80_recall\n"
      ]
    },
    {
      "cell_type": "code",
      "execution_count": 49,
      "metadata": {
        "id": "8FQv9lMDLBZn",
        "colab": {
          "base_uri": "https://localhost:8080/",
          "height": 350
        },
        "outputId": "bab4c3ca-8d0e-41e1-b1f5-39d54ba0da91"
      },
      "outputs": [
        {
          "output_type": "display_data",
          "data": {
            "image/png": "[encoded data removed]",
            "text/plain": [
              "<Figure size 720x360 with 1 Axes>"
            ]
          },
          "metadata": {
            "needs_background": "light"
          }
        }
      ],
      "source": [
        "# Plot recommended recall = 0.8\n",
        "\n",
        "fig, ax = plt.subplots(figsize=(10,5))\n",
        "\n",
        "ax.plot(thresholds, recalls, label='Recalls')\n",
        "ax.plot(thresholds, precisions, label='Precisions')\n",
        "\n",
        "ax.plot([threshold_80_recall, threshold_80_recall], [precision_80, recalls_80], \"r:\" )\n",
        "ax.plot([threshold_80_recall, threshold_80_recall], [0, precision_80], \"r:\")\n",
        "ax.plot([0, threshold_80_recall], [precision_80, precision_80], \"r:\")\n",
        "ax.plot([0, threshold_80_recall], [recalls_80, recalls_80], \"r:\")\n",
        "ax.plot([threshold_80_recall], [recalls_80], \"ro\", label='Threshold')\n",
        "\n",
        "ax.set_xlabel('Threshold')\n",
        "ax.set_ylabel('Precisons / Recalls')\n",
        "ax.legend(loc='center right',fontsize=16)\n",
        "plt.title('Model Recommendation(Recalls = 0.8)')\n",
        "plt.savefig('recommended_recall')\n",
        "plt.show()\n"
      ]
    },
    {
      "cell_type": "markdown",
      "metadata": {
        "id": "Ut9hKejoLBZn"
      },
      "source": [
        "#### Feature Importances"
      ]
    },
    {
      "cell_type": "code",
      "execution_count": 50,
      "metadata": {
        "id": "p4oFWxiqLBZn",
        "colab": {
          "base_uri": "https://localhost:8080/",
          "height": 517
        },
        "outputId": "1c0ec5b0-7235-4053-98c1-fa4cdfc32986"
      },
      "outputs": [
        {
          "output_type": "execute_result",
          "data": {
            "text/plain": [
              "Text(0.5, 1.0, 'Features importance')"
            ]
          },
          "metadata": {},
          "execution_count": 50
        },
        {
          "output_type": "display_data",
          "data": {
            "image/png": "[encoded data removed]",
            "text/plain": [
              "<Figure size 720x576 with 1 Axes>"
            ]
          },
          "metadata": {
            "needs_background": "light"
          }
        }
      ],
      "source": [
        "# Plot feature importance of winner model - Random Forest\n",
        "\n",
        "fea_df = pd.DataFrame({'Feature': feature_cols, 'Feature importance': rf_best.feature_importances_})\n",
        "fea_df = fea_df.sort_values(by='Feature importance')\n",
        "\n",
        "figure, ax = plt.subplots(figsize = (10,8))\n",
        "fea_df.plot.barh(x='Feature',y='Feature importance', ax=ax)\n",
        "plt.title('Features importance',fontsize=14)"
      ]
    },
    {
      "cell_type": "markdown",
      "metadata": {
        "id": "itNL1x1qLBZn"
      },
      "source": [
        "\"PAY_1\" AND \"Pay_2\" are the most recent 2 months' payment status and they are the strongest predictors of future payment default risk."
      ]
    },
    {
      "cell_type": "markdown",
      "metadata": {
        "id": "C8HCCPc0LBZn"
      },
      "source": [
        "## Conclusion"
      ]
    },
    {
      "cell_type": "markdown",
      "metadata": {
        "id": "aHJjutHWLBZn"
      },
      "source": [
        "Logistic Regression model has the highest recall but the lowest precision, if the business cares recall the most, then this model is the best candidate. If the balance of recall and precision is the most important metric, then Random Forest is the ideal model. Since Random Forest has slightly lower recall but much higher precision than Logistic Regression, I would recommend Random Forest. "
      ]
    }
  ],
  "metadata": {
    "colab": {
      "collapsed_sections": [],
      "name": "Part 2 - Modeling: Credit Card Default Prediction",
      "toc_visible": true,
      "provenance": [],
      "authorship_tag": "ABX9TyOu38vUnsXxfRfe8x629Sgz",
      "include_colab_link": true
    },
    "kernelspec": {
      "display_name": "Python 3",
      "name": "python3"
    },
    "language_info": {
      "name": "python"
    }
  },
  "nbformat": 4,
  "nbformat_minor": 0
}